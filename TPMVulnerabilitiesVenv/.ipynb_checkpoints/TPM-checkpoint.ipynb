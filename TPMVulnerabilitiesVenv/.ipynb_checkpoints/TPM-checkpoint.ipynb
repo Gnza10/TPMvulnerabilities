{
 "cells": [
  {
   "cell_type": "markdown",
   "id": "1704a0ba-dd84-481f-a096-8e22f8b97813",
   "metadata": {},
   "source": [
    "# <center> <font size = \"12\"> _Exploiting TPM 2.0 Vulnerabilities_ </font></center>"
   ]
  },
  {
   "cell_type": "markdown",
   "id": "49eaf9e3-7ad5-4a3c-91ef-4f7866d5616b",
   "metadata": {},
   "source": [
    "# 1. Introduction\n"
   ]
  },
  {
   "cell_type": "markdown",
   "id": "0d8dd87f-5e99-4a1b-8f30-946368daec34",
   "metadata": {},
   "source": [
    "<font size=\"3\"> In 2023, two vulnerabilities affecting TPM 2.0 were listed, specifically named as <a href=\"https://msrc.microsoft.com/update-guide/vulnerability/CVE-2023-1017\"> CVE-2023-1017 </a> and <a href=\"https://nvd.nist.gov/vuln/detail/CVE-2023-1018\">CVE-2023-1018 </a>, compromising, respectively, an out-of-bounds write and an out-of-bound read. \n",
    "Many software and harware platforms/ providers appeared to be impacted as the use of TPM is widely spreaded among those applications requiring a specific module for storing criptographic keys and performing encrypting and decrypting algorithms. Cloud computing platforms seemed to be specially affected by these two vulnerabilites as they may be used by malicious agents to try scaping the TPM and gaining acces to sensible data. The extension of the problem varied depending on the specific implementation of the TPM, and specially, on the information stored by the company in the positions that are accesible by this means.</font>\n",
    "\n",
    "<font size=\"3\"> The emergency created by this issue became exceptionally bigh as for the recent release of Microsoft's new operative system, Windows 11, requiring all systems using this distibution to have a Trusted Platform Module (TPM) 2.0 in which these two vulnerabilities were found, so there we were, with thousands and thousands of a wide variety of systems functioning under Windows 11, needing to make use of TPM 2.0 with a big security breach having a massive impact not only on particular users but also on the biggest technological companies in the world, compromising tons of critical information.   </font>\n",
    "\n",
    "<font size=\"3\">\n",
    "Luckily, indiviudals could easily limit the extension of the hazard, limiting the physical access to their systems and using only signed applications had proven to be effective in order to mitigate as much as possible the effects of the breach. However, for enterprises there was no easy solution, as limiting the acces to their applications seemed to be no possible option, taking as an example cloud computing services, companies can not prevent users intentionally executing malicious commands to try to exploit the vulnerabilities, thus, in this scenario, companies rushed to published their own different patches that tackled the issue.\n",
    "</font>\n",
    "\n",
    "<font size=\"3\">\n",
    "Therefore, as we can see, the only possible fix to these vulnerabilties is updating to a newer patched version of TPM which may be a valid solution for some systems, but depending on the device being used, updating it can be tricky or even so, not a possible solution, therefore the necessity to find other ways to mitigate this problem.</font>\n",
    "\n",
    "<br><font size =\"3\">Additionally, we will be reviewing a BitLocker vulnerablity, asit is one of the most famous applications that makes use of TPM services, specifically we will see vulnerabilitie <a href=\"https://www.cve.org/CVERecord?id=CVE-2024-20666\">CVE-2024-20666</a> relateds to an improper input validation, that is, the application is not correctly validating the data received, therefore, accepting incorrect inputs. In this case, the vulnerabilitie is only exploitable via physical access to the device given the functionality of Bitlocker. therefore, considerably reducing the risks attached to this security breach.</font>"
   ]
  },
  {
   "cell_type": "markdown",
   "id": "c5ad2260-82f5-428f-b4aa-0b877efbc437",
   "metadata": {},
   "source": [
    "# 2. Methodology"
   ]
  },
  {
   "cell_type": "markdown",
   "id": "5685b650-62cd-42d7-8a0c-0065e74a964c",
   "metadata": {},
   "source": [
    "<font size=\"3\">In this project, I will be recreating several possible real use-cases of this vulnerabilities that malicious agents could carry out in order to read sensible data, store malicious commands or even to scale privileges in various devices, with the seriousness that this entails. For that purpose, I will use jupyter lab inside a virtual environment and its interactives code cells that can be combined with markdown cells, as it ables to make the project more interactive as well as being easy to explain what is happening in each moment in an effective and intuitive way. </font>\n",
    "<br>\n",
    "<br>\n",
    "<font size=\"3\">Furthermore, to achieve a hig readabilty and easy understanding without needing deep knowledge of programming, I will be using python as the main language for the project, as it is a widely spread programming language across the whole world that many people nowadays understand and use. Python is also widely used in the cibersecurity world, therefore, making it appropiate for a project like this. </font>"
   ]
  },
  {
   "cell_type": "markdown",
   "id": "9b7f4e6e-2247-470c-b1c3-aa5afe02afab",
   "metadata": {},
   "source": [
    "## 2.1 Workbench"
   ]
  },
  {
   "cell_type": "markdown",
   "id": "e56d158d-7b43-4b05-976b-5d34754320a4",
   "metadata": {},
   "source": [
    "<font size=\"3\">The specifications where the experiments are running under are the following ones:\n",
    "<br>\n",
    "<b>OS</b>: Windows 11 pro edition<br>\n",
    "<b>CPU</b>: AMD Ryzen 7 7800X3D 8-Core Processor @4.20 GHz<br>\n",
    "<b>GPU</b>: Nvidia 4080<br>\n",
    "<b>RAM</b>: 32,0 GB DDR5 32GB @6000mhz CL30 (2X16GB) <br>\n",
    "<b>Motherboard</b>: ASUS TUF GAMING B650-PLUS WIFI<br>\n",
    " </font>\n",
    " <br>\n",
    " <font size=\"3\">I chosed Windows 11 for two different reasons:\n",
    " <ul>\n",
    "    <li>Firstly because it is the mainly affected operative system by these vulnerabilities, as I already mentioned in the introduction, it is a requirement for this OS to be installed to have a TPM, thus, making it vulnerable.</li>\n",
    "    <li>Secondly, Bitlocker is an application fully provided by Microsoft to encrypt data in windows systems, thus Windows is the most affected SO by the security breach in this application.</li>\n",
    "</ul> </font>\n",
    "<font size=\"3\"> Therefore, I find Windows 11 to be the most suitable to carry out these experiments, however, they culd be replicated in any sistem with a functional implementation of TPM or using Bitlocker by following hte same steps as we will be see next.</font>"
   ]
  },
  {
   "cell_type": "markdown",
   "id": "80892f80-ba76-4a27-a5bd-ba23f9c609e6",
   "metadata": {},
   "source": [
    "## 2.2 Objectives"
   ]
  },
  {
   "cell_type": "markdown",
   "id": "05b5fac0-9815-467a-a54c-4cf8bf62599a",
   "metadata": {},
   "source": [
    "<font size=\"3\"><b>The objectives of this project are the following:</b>\n",
    "<ul> \n",
    "    <font size=\"3\">\n",
    "    <li>Firstly, to reproduce the vulnerabilties in order to achieve a better understanding of the same, in which extension they can affect both, users and enterprises and analyse the seriousness of the security breach</li>\n",
    "    <li>Secondly</li>\n",
    "    </font>\n",
    "</ul>\n",
    "</font>"
   ]
  }
 ],
 "metadata": {
  "kernelspec": {
   "display_name": "Python 3 (ipykernel)",
   "language": "python",
   "name": "python3"
  },
  "language_info": {
   "codemirror_mode": {
    "name": "ipython",
    "version": 3
   },
   "file_extension": ".py",
   "mimetype": "text/x-python",
   "name": "python",
   "nbconvert_exporter": "python",
   "pygments_lexer": "ipython3",
   "version": "3.12.4"
  }
 },
 "nbformat": 4,
 "nbformat_minor": 5
}
