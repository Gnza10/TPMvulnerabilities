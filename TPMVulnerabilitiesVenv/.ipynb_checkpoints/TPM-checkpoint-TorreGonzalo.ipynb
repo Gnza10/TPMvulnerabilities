{
 "cells": [
  {
   "cell_type": "markdown",
   "id": "1704a0ba-dd84-481f-a096-8e22f8b97813",
   "metadata": {},
   "source": [
    "# <center> <font size = \"12\"> _Exploiting TPM 2.0 Vulnerabilities_ </font></center>"
   ]
  },
  {
   "cell_type": "markdown",
   "id": "49eaf9e3-7ad5-4a3c-91ef-4f7866d5616b",
   "metadata": {},
   "source": [
    "# 1. Introduction\n"
   ]
  },
  {
   "cell_type": "markdown",
   "id": "0d8dd87f-5e99-4a1b-8f30-946368daec34",
   "metadata": {},
   "source": [
    "<font size=\"3\">In 2023, two vulnerabilities affecting TPM 2.0 were listed, specifically named as <a href=\"https://msrc.microsoft.com/update-guide/vulnerability/CVE-2023-1017\"> CVE-2023-1017 </a> and <a href=\"https://nvd.nist.gov/vuln/detail/CVE-2023-1018\">CVE-2023-1018 </a>, compromising, respectively, an out-of-bounds write and an out-of-bound read. \n",
    "Many software and harware platforms/ providers appeared to be impacted as the use of TPM is widely spreaded among those applications requiring a specific module for storing criptographic keys and performing encrypting and decrypting algorithms. Cloud computing platforms seemed to be specially affected by these two vulnerabilites as they may be used by malicious agents to try scaping the TPM and gaining acces to sensible data. The extension of the problem varied depending on the specific implementation of the TPM, and specially, on the information stored by the company in the positions that are accesible by this means.</font>\n",
    "\n",
    "<font size=\"3\"> The emergency created by this issue became exceptionally bigh as for the recent release of Microsoft's new operative system, Windows 11, requiring all systems using this distibution to have a Trusted Platform Module (TPM) 2.0 in which these two vulnerabilities were found, so there we were, with thousands and thousands of a wide variety of systems functioning under Windows 11, needing to make use of TPM 2.0 with a big security breach having a massive impact not only on particular users but also on the biggest technological companies in the world, compromising tons of critical information.   </font>\n",
    "\n",
    "<font size=\"3\">\n",
    "Luckily, indiviudals could easily limit the extension of the hazard, limiting the physical access to their systems and using only signed applications had proven to be effective in order to mitigate as much as possible the effects of the breach. However, for enterprises there was no easy solution, as limiting the acces to their applications seemed to be no possible option, taking as an example cloud computing services, companies can not prevent users intentionally executing malicious commands to try to exploit the vulnerabilities, thus, in this scenario, companies rushed to published their own different patches that tackled the issue.\n",
    "</font>\n",
    "\n",
    "<font size=\"3\">\n",
    "Therefore, as we can see, the only possible fix to these vulnerabilties is updating to a newer patched version of TPM which may be a valid solution for some systems, but depending on the device being used, updating it can be tricky or even so, not a possible solution, therefore the necessity to find other ways to mitigate this problem.</font>\n",
    "\n",
    "<br><font size =\"3\">Additionally, we will be reviewing a BitLocker vulnerablity, asit is one of the most famous applications that makes use of TPM services, specifically we will see vulnerabilitie <a href=\"https://www.cve.org/CVERecord?id=CVE-2024-20666\">CVE-2024-20666</a> relateds to an improper input validation, that is, the application is not correctly validating the data received, therefore, accepting incorrect inputs. In this case, the vulnerabilitie is only exploitable via physical access to the device given the functionality of Bitlocker. therefore, considerably reducing the risks attached to this security breach.</font>"
   ]
  },
  {
   "cell_type": "markdown",
   "id": "c5ad2260-82f5-428f-b4aa-0b877efbc437",
   "metadata": {},
   "source": [
    "# 2. Methodology"
   ]
  },
  {
   "cell_type": "markdown",
   "id": "5685b650-62cd-42d7-8a0c-0065e74a964c",
   "metadata": {},
   "source": [
    "<font size=\"3\">In this project, I will be recreating several possible real use-cases of this vulnerabilities that malicious agents could carry out in order to read sensible data, store malicious commands or even to scale privileges in various devices, with the seriousness that this entails. For that purpose, I will use jupyter lab inside a virtual environment and its interactives code cells that can be combined with markdown cells, as it ables to make the project more interactive as well as being easy to explain what is happening in each moment in an effective and intuitive way. </font>\n",
    "<br>\n",
    "<br>\n",
    "<font size=\"3\">Furthermore, to achieve a hig readabilty and easy understanding without needing deep knowledge of programming, I will be using python as the main language for the project, as it is a widely spread programming language across the whole world that many people nowadays understand and use. Python is also widely used in the cibersecurity world, therefore, making it appropiate for a project like this. </font>"
   ]
  },
  {
   "cell_type": "markdown",
   "id": "9b7f4e6e-2247-470c-b1c3-aa5afe02afab",
   "metadata": {},
   "source": [
    "## 2.1 Workbench"
   ]
  },
  {
   "cell_type": "markdown",
   "id": "e56d158d-7b43-4b05-976b-5d34754320a4",
   "metadata": {},
   "source": [
    "<font size=\"3\">The specifications where the experiments are running under are the following ones:\n",
    "<br>\n",
    "<b>OS</b>: Windows 11 pro edition<br>\n",
    "<b>CPU</b>: AMD Ryzen 7 7800X3D 8-Core Processor @4.20 GHz<br>\n",
    "<b>GPU</b>: Nvidia 4080<br>\n",
    "<b>RAM</b>: 32,0 GB DDR5 32GB @6000mhz CL30 (2X16GB) <br>\n",
    "<b>Motherboard</b>: ASUS TUF GAMING B650-PLUS WIFI<br>\n",
    " </font>\n",
    " <br>\n",
    " <font size=\"3\">I chosed Windows 11 for two different reasons:\n",
    " <ul>\n",
    "    <li>Firstly because it is the mainly affected operative system by these vulnerabilities, as I already mentioned in the introduction, it is a requirement for this OS to be installed to have a TPM, thus, making it vulnerable.</li>\n",
    "    <li>Secondly, Bitlocker is an application fully provided by Microsoft to encrypt data in windows systems, thus Windows is the most affected SO by the security breach in this application.</li>\n",
    "</ul> </font>\n",
    "<font size=\"3\"> Therefore, I find Windows 11 to be the most suitable to carry out these experiments, however, they culd be replicated in any sistem with a functional implementation of TPM or using Bitlocker by following the same steps as we will be see next.</font>"
   ]
  },
  {
   "cell_type": "markdown",
   "id": "80892f80-ba76-4a27-a5bd-ba23f9c609e6",
   "metadata": {},
   "source": [
    "## 2.2 Objectives"
   ]
  },
  {
   "cell_type": "markdown",
   "id": "05b5fac0-9815-467a-a54c-4cf8bf62599a",
   "metadata": {},
   "source": [
    "<font size=\"3\"><b>The objectives of this project are the following:</b>\n",
    "<ul> \n",
    "    <font size=\"3\">\n",
    "    <li>Firstly, reproducing the vulnerabilties in order to achieve a better understanding of the same, in which extension they can affect both, users and enterprises and analyse the seriousness of the security breach</li>\n",
    "    <li>Secondly, this project will allow easier reproducibility for further study of this vulnerability, and in general, TPMs applications widely used nowadays. By interactively recreating the use-case scenarios it will facilitate a better understanding of the issues arising with the use of this cibersecurity modules.</li>\n",
    "    <li>Furthermore, the ultimate and most important objective of this project is to look for new solutions to this breach, as today, the only solution available is to update the system in risk to a newer version which can be valid for newer systems, but not for legacy ones, therefore it appears to be necessary to come up with different solutions which will be studied further in this study.</li>\n",
    "    </font>\n",
    "</ul>\n",
    "\n",
    "</font>"
   ]
  },
  {
   "cell_type": "markdown",
   "id": "46c97ad8-5621-43c9-86ba-17515784d4b7",
   "metadata": {},
   "source": [
    "# 3 Introductory Explanation\n"
   ]
  },
  {
   "cell_type": "markdown",
   "id": "18d5f3bd-31c0-44e2-aaa3-86d348e1f153",
   "metadata": {},
   "source": [
    "## 3.1 What is a TPM?"
   ]
  },
  {
   "cell_type": "markdown",
   "id": "4ba96543-7547-4bfb-a66d-94067db6628b",
   "metadata": {},
   "source": [
    "<font size=\"3\">\n",
    "    A TPM or Trusted Platform Module by its initials is tipically a separate chip in the motherboard (though now with TPM 2.0 it is possible to integrate it into the main CPU chip) that is used by a variety of services such as BitLocker to securely create and store cryptographic keys, and to confirm that the operating system and firmware on your device are what they're supposed to be, and haven't been tampered with (via <a href=\"https://support.microsoft.com/en-us/topic/what-is-tpm-705f241d-025d-4470-80c5-4feeb24fa1ee\">Microsoft</a>).</br>\n",
    "        \n",
    "</br>In other words, TPM is used by this services to store secrets and critical information that must be kept secured and safe from possible external attacks. The idea behind this is that information stored in hardware and hardware-encryption is much safer than its counterpart, software-encryption, therefore, ensuring information is protected from external software attacks. \n",
    "    \n",
    "Furthermore, by using TPM, applications make much harder accesing information without the convenient authorization. For example, in the case the device was stolen or a platform settings are changed due to unathorized access, data and secrets can be sealed, thus, becoming unaccesible by the attacker. Like this, we can assure critical information will be kept apart from external agents and that the transmision of secrets between the server and the final user is safe.\n",
    "</font>"
   ]
  },
  {
   "cell_type": "markdown",
   "id": "e0c1486c-c41f-47aa-831f-331eea8952a3",
   "metadata": {},
   "source": [
    "## 3.2 How does a TPM work?"
   ]
  },
  {
   "cell_type": "markdown",
   "id": "395abcd2-5ff6-40a6-8700-86056832e601",
   "metadata": {},
   "source": [
    "<font size=\"3\">\n",
    "    As I have explained before, a Trusted Platform Module (TPM) is a specialized microcontroller designed to secure hardware through a variety of criptographic processes and components, such as criptographic keys or data cypher. It mainly provides a root of trust, enhancing the security of computer systems by ensuring that the platform’s integrity is maintained from boot-up through application execution, that is, the system has not been modified nor manipulated, therefore securing the data contained in it, but how does a TPM detects these changes, and furthermore, how does it act when facing modification of a system? Well, to answer these questions, firstly let us take a deep look into the structure of a TPM. I will divide them into 2 different groups, hardware and logical components.\n",
    "</font>"
   ]
  },
  {
   "cell_type": "markdown",
   "id": "36a9708e-5710-43e7-9796-87903a435e0f",
   "metadata": {},
   "source": [
    "### 3.2.1 Hardware Components"
   ]
  },
  {
   "cell_type": "markdown",
   "id": "e5b82457-10a3-433d-90a6-a1a5784d2d9c",
   "metadata": {},
   "source": [
    "<font size=\"3\">\n",
    "TPM's are typically compoubd\n",
    "    of this parts:\n",
    "<ul>\n",
    "    <li><b>Cryptographic Co-Processor:</b> The core component of the TPM, it allows the TPM to perform all the basic cryptographic operations such as hashing, random number generation, key generation, encryption, and decryption. </li>\n",
    "    <li><b>Non-Volatile Memory (NV Memory):</b> As it name sugests, it stores persistent data, such as cryptographic keys, certificates, and authorization data. This memory retains information even when the system is powered off, which is esential for the TPM to detect changes on the system.</li>\n",
    "    <li><b>Volatile Memory:</b> Used for temporary storage during TPM operations that is not necessary to persist. For example, a ramdomly generated number for cyphering.</li>\n",
    "    <li><b>I/O Interface:</b> It enables communication between the TPM and the fynal system. Typically, this interface adheres to standarized protocols, such as the LPC (Low Pin Count) bus, SPI (Serial Peripheral Interface), or I2C (Inter-Integrated Circuit) and others. </li>\n",
    "    <li><b>Platform Configuration Registers (PCRs):</b> Special registers used to store integrity measurements, they are basically, memory locations that have some uniques properties. PCRs are reset on system reboot, but they can be extended (not overwritten) to include new measurements.</li>\n",
    "</ul>\n",
    "</font>"
   ]
  },
  {
   "cell_type": "markdown",
   "id": "9804a0d8-841f-42c1-b6d6-2907b270cb4f",
   "metadata": {},
   "source": [
    "### 3.2.2 Logical Components"
   ]
  },
  {
   "cell_type": "markdown",
   "id": "de566028-0da1-44d4-8049-425bc051619e",
   "metadata": {},
   "source": [
    "<font size=\"3\">\n",
    "The logic behind a TPM is structured like this:\n",
    "\n",
    "<ul>\n",
    "    <li><b>Key Hierarchy:</b> TPMs maintain a hierarchy of keys (very similar to the structure of CA, where a certificate leads to a certificate authority, and this one to a higher one...), including an Endorsement Key (EK), Storage Root Key (SRK), and various subordinate keys. The EK is unique to each and immutable to each TPM.</li>\n",
    "    <li><b>Attestation:</b> A mechanism to prove the integrity of the platform to an external party by the exchange of digital signatures. Attestation relies on PCR values and cryptographic proof provided by the TPM.</li>\n",
    "    <li><b>Sealing and Binding:</b> Processes that ensure data can only be accessed under certain conditions (sealing) or encrypted with a TPM-bound key (binding). In the example I have mentiones before, the condition to acces information would be that either the system has not been modified (sealing) or that he posseses the proper key that decrypts information (binding)</li>\n",
    "</ul>\n",
    "\n",
    "Now that we have discussed the structure of a TPM we are ready to inspect the diverse functionalities of the module, indeed, we will be discussing 4 key functions: Platform Integrity Measurement, Key Management, Attestation, Sealing and Binding.\n",
    "</font>"
   ]
  },
  {
   "cell_type": "markdown",
   "id": "dc82642e-0a51-4e6c-ab94-352143ff92d8",
   "metadata": {},
   "source": [
    "### 3.2.3 TPM Functionality"
   ]
  },
  {
   "cell_type": "markdown",
   "id": "77de9e03-84e2-4aac-84d9-7539e553cd10",
   "metadata": {},
   "source": [
    "<font size=\"3\">\n",
    "<ul>\n",
    "    <li><b>Platform Integrity Measurement:</b> During the boot process, the TPM measures the integrity of the main and critical components of the system, including BIOS, bootloader, and other critical components, these measurements are stored into the PCRs. This whole process is called <i>\"measured boot\"</i>.<br>\n",
    "This process works like this:&nbsp Each component in the boot sequence calculates a hash of the next component and extends this hash into a PCR. Extending a PCR involves concatenating the current value of the PCR with the new hash value, hashing this concatenated value, and then storing the result back in the PCR. Then, this hashed value is available for either the TPM to analise the integrity of the system and acting consequently, and for other applications to check that the system remains unmodified, providing like this a security check that grants the system is only accesed and modified by agents with proper permissions.</li>\n",
    "    <li><b>Key Management:</b> Compound by three different services:\n",
    "        <ul><li>Key Generation: TPM is able to generate asymmetric key pairs internally, which are used by most of the actual and modern criptographic operations such as digital signature, cyphering or key sharing. This keys can be designated as either non-migratable (cannot leave the TPM) or migratable (can leave the TPM) which can be useful .</li> \n",
    "        <li>Key Storage: Keys can be either stored in the TPM’s NV memory or encrypted and stored externally. When stored externally, they are referred to as \"wrapped\" keys.</li>\n",
    "        <li>Key Usage: The TPM uses keys for the main criptographic services: signing, encryption/decryption, and authentication purposes. Only the TPM can unseal and use these keys, ensuring their protection.</li>\n",
    "        </ul></li>\n",
    "        <li><b>Attestation</b>, which presents two different aspects:\n",
    "        <ul>\n",
    "            <li>Quote: A TPM quote is a signed statement of the current values of the alreay spoken PCRs. This quote can be used by an external party to verify the platform’s state and integrity.</li>\n",
    "            <li>Attestation Identity Key (AIK): An AIK is a special key used exclusively for signing attestation evidence, a similar process to digital signature. AIKs can be certified by a trusted third party, ensuring the attestation is being made by an authorized agent.</li>\n",
    "        </ul></li>\n",
    "        <li><b>Sealing and Binding:</b> mentioned before, let us take a deeper look at each specific action.\n",
    "        <ul>\n",
    "            <li>Sealing: Data can be encrypted and sealed to specific PCR values (and therefore to specific quotes, linked to attestation). The TPM ensures that this data can only be decrypted if the system integrity is in a known good state (e.g.: the PCRs match their expected values).</li>\n",
    "            <li>Binding: Binding involves encrypting data with a TPM-resident key, that is, a non-migratable one, thus keeping it inside the TPM. This ensures that only the TPM with the corresponding private key can decrypt and access the data.</li>\n",
    "        </ul>\n",
    "        </li>\n",
    "</ul>\n",
    "    As it is logical, all of the different TPM services are extremely connected between each other and tipically, external aplications make a combined use of them when requesting them. Because of them being that linked, a small problem affecting one of the different functionalities can result in a fatal error in the TPM, leading to a malfunction, data leaks, privilege scaling and other common attacks therefore the importance and seriousness of maintaining TPM software secure and sturdy from possible bugs or errors.\n",
    "    <br>\n",
    "    Now we are going to see some real use cases where these services are applied.\n",
    "</font>"
   ]
  },
  {
   "cell_type": "markdown",
   "id": "9538f206-0f7a-4c5d-bebf-8c516bb4fb29",
   "metadata": {},
   "source": [
    "### 3.2.4 TPM Use Cases"
   ]
  },
  {
   "cell_type": "markdown",
   "id": "996682d3-5cf2-4279-8a61-d1777ff78e25",
   "metadata": {},
   "source": [
    "<font size='3'> \n",
    "As we have discussed in the preliminar section of this project, TPMs are widely used in a variety of applications and services nowadays, becoming an important part of security around the world. As we have seen in the functionalities paragraph, TPM is able to perform diverse operations that allows different use cases in many different industries, such as software production, videogames, telecommunications.... Most of them have been listed above, but we will be deeply discussing them now:\n",
    "\n",
    "<ul>\n",
    "    <li><b>Secure Boot and Measured Boot:</b>\n",
    "        <ul> \n",
    "            <li>Secure Boot: Ensures that only trusted software is executed during the boot process, if external software is detected TPM will cypher critical data, denying unauthorized access, therefore requiring the proper criptographic key. The TPM aids in this process by storing cryptographic measurements of the boot components such as for example, the value of the PCRs.</li>\n",
    "            <li>Measured Boot: Records measurements of each component loaded during the boot process. These measurements can be used for attestation to ensure the system has not been tampered with.</li>\n",
    "        </ul>\n",
    "    </li>\n",
    "    <li><b> Disk Encryption:</b>\n",
    "        <ul>\n",
    "            <li>Full Disk Encryption (FDE): The TPM can store the keys required to decrypt the disk, ensuring that they are only accessible if the platform is in a known good state. Used, for example when booting the system, TPM checks for the state of the machine and if everything is fine then access to data will be granted.</li>\n",
    "            <li>BitLocker (Only in Windows): Utilizes TPM to secure the encryption keys used for full disk encryption, preventing unauthorized access to data, if it detects a unusual acivity it will lock this access, requering a unique key to be unlocked.</li>\n",
    "        </ul>\n",
    "    </li>\n",
    "    <li><b>Platform Attestation: </b> TPMs can generate attestation evidence that can be used to verify the integrity of a platform remotely. Especially useful in enterprise environments to ensure the security of endpoints.\n",
    "    </li>\n",
    "    <li><b>Digital Rights Management (DRM):</b>TPMs can be used to enforce digital rights by ensuring that only authorized platforms can access protected content. This is particularly useful in the videogames industry to prevent piracy, as TPM checks internally if the software has been modified.</li>\n",
    "</ul>\n",
    "\n",
    "Now that we have a wide view into TPM, there are some security considerations all implementations must respect in order to keep secureness and privacy:\n",
    "<ul>\n",
    "    <li><b></b>Physical Attacks:</b> TPMs are designed and must resist physical tampering. They include mechanisms to detect and react to physical attacks, such as voltage, temperature, and probing attacks. This ensures that in case of losing the physical device, data will still be secured.</li>\n",
    "    <li><b>Firmware Updates:</b> TPMs must support secure firmware updates to address vulnerabilities and improve functionality. As we can see in this project it is easy to find vulnerabilities in the code that can be exploited to bypass the security measures and procedures of TPM, therefore it is important to fastly react by patching and updating the firmware.</li>\n",
    "    <li><b>Privacy:</b> The TPM must manage keys and attestation in a way that preserves user privacy (thus, not exposing critical information nor sensible data). AIKs and EKs are designed to protect against unauthorized tracking and identification.</li>\n",
    "</ul>\n",
    "</font>"
   ]
  }
 ],
 "metadata": {
  "kernelspec": {
   "display_name": "Python 3 (ipykernel)",
   "language": "python",
   "name": "python3"
  },
  "language_info": {
   "codemirror_mode": {
    "name": "ipython",
    "version": 3
   },
   "file_extension": ".py",
   "mimetype": "text/x-python",
   "name": "python",
   "nbconvert_exporter": "python",
   "pygments_lexer": "ipython3",
   "version": "3.12.5"
  },
  "widgets": {
   "application/vnd.jupyter.widget-state+json": {
    "state": {},
    "version_major": 2,
    "version_minor": 0
   }
  }
 },
 "nbformat": 4,
 "nbformat_minor": 5
}
