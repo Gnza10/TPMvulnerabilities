{
 "cells": [
  {
   "cell_type": "markdown",
   "id": "52aaa6aa-4ea2-4f9d-9d1f-5fe316f875f6",
   "metadata": {},
   "source": [
    "# <center> <font size='12'> _USER'S GUIDE (LINUX)_ </font> </center>"
   ]
  },
  {
   "cell_type": "markdown",
   "id": "a180dc9c-0365-4239-8671-1bf87b42aa8d",
   "metadata": {},
   "source": [
    "# 1. Disclaimer"
   ]
  },
  {
   "cell_type": "markdown",
   "id": "b10c6724-f86a-4c76-a8ed-56d09a185dbf",
   "metadata": {},
   "source": [
    "<font size='3'> This guide is strictly for educational and research purposes. Exploiting vulnerabilities in real-world systems is illegal and unethical without proper authorization. Do not attempt to execute these steps on any system that you do not own or have explicit permission to test. Always reproduce this project within the bounds of applicable laws and ethical guidelines. </font>"
   ]
  },
  {
   "cell_type": "markdown",
   "id": "bb5240e0-4f53-43aa-9f73-7d310d0e0b32",
   "metadata": {},
   "source": [
    "# 2. Pre-requisites"
   ]
  },
  {
   "cell_type": "markdown",
   "id": "9a83f29e-4635-4c35-82f9-69deacbf2680",
   "metadata": {},
   "source": [
    "<font size='3'> \n",
    "    <b>1. Environment Setup</b>\n",
    "    <ul>\n",
    "        <li> Install a linux distribution or a virtualized version of it (here, I will be using Ubuntu).</li>\n",
    "        <li> (Optional, recommended) Create a virtual environment.</li>\n",
    "        <li> Install Python 3.x version</li>\n",
    "        <li> Network access to a simulated or actual TPM interface (or a virtual environment that mimics TPM behavior).</li>\n",
    "    </ul></br>\n",
    "    <b>2. Python libraries</b>\n",
    "     <ul>\n",
    "        <li>Only Python's socket library is requires, which is default with Python 3.x </li>\n",
    "    </ul></br>   \n",
    "    <b>3. Simulated TPM environment</b> (two options)\n",
    "    <ul>\n",
    "        <li><b>Option 1: Physical TPM Module</b> - Ensure you have a system with a TPM 2.0 chip. (Default in most modern devices)</li>\n",
    "        <li><b>Option 2: Virtual TPM</b> - Use a TPM emulator for testing. Some options for setting this up are via QEMU (or other emulators) or a TPM emulator package like swtpm.</li>\n",
    "    </ul></br> \n",
    "    <b>4. (Recommended) Root or Elevated Privileges: </b> \n",
    "    <ul>\n",
    "        <li>Depending on your environment, root or elevated privileges might be required to interact with TPM hardware or virtual TPM instances.</li>\n",
    "    </ul></br>  \n",
    "     <b>5. Vulnerability Context</b> \n",
    "    <ul>\n",
    "        <li>Basic understanding of how TPM works and exchenga of commands between the device and the TPM.</li>\n",
    "    </ul></br>  \n",
    "    <b>Warning. </b>It is higly recommended to perform these experiments under a safe and isolated environment. Critical information may be lost  if replicated in your own system.\n",
    "</font>"
   ]
  },
  {
   "cell_type": "markdown",
   "id": "4a0bdb85-a915-4a00-b71b-450ce042061d",
   "metadata": {},
   "source": [
    "# 3. Step-by-Step"
   ]
  },
  {
   "cell_type": "markdown",
   "id": "ca321ffb-6b09-454a-baa1-d4877991540d",
   "metadata": {},
   "source": [
    "## 3.1. Set up the Environment "
   ]
  },
  {
   "cell_type": "code",
   "execution_count": 5,
   "id": "9d82696d-944c-47ee-8ce9-056cd941c9f5",
   "metadata": {},
   "outputs": [],
   "source": [
    "# python -m venv ./TPMvenv # Creates a Virtual Environment on the actual folder (Optional)\n",
    "# sudo apt-get update # Updates packages list and its versions\n",
    "# sudo apt-get install python3 python3-pip  # Installs both, python and pip (python's packages administrator)"
   ]
  },
  {
   "cell_type": "markdown",
   "id": "eadc88f6-b646-43b2-b310-fd245979920f",
   "metadata": {},
   "source": [
    "## 3.2.1 Setup TPM Emulator (Optional): Only if using an emulator:"
   ]
  },
  {
   "cell_type": "code",
   "execution_count": null,
   "id": "fdc529d1-bfdd-476d-a874-56c00802130a",
   "metadata": {},
   "outputs": [],
   "source": [
    "# sudo apt-get install swtpm\n",
    "# Start a TPM emulator instance\n",
    "# swtpm socket --tpmstate dir=/tmp/mytpm1 --ctrl type=unixio,path=/tmp/mytpm1/swtpm-sock --log level=20 --tpm2"
   ]
  },
  {
   "cell_type": "markdown",
   "id": "e94ef1d5-50c6-40f6-af66-b4550b37cb25",
   "metadata": {},
   "source": [
    "## 3.2.2 Setup TPM chip"
   ]
  },
  {
   "cell_type": "markdown",
   "id": "19b39960-699f-41d3-88a1-0dc1a5f20778",
   "metadata": {},
   "source": [
    "<font size='3'> <b> 1. Ensure you have a TPM chip </b> (You can use this command on Linux): </font>"
   ]
  },
  {
   "cell_type": "code",
   "execution_count": 6,
   "id": "b6ef1baa-f15d-4e53-aadc-77c756a46aea",
   "metadata": {},
   "outputs": [],
   "source": [
    "# dmesg | grep -i tpm"
   ]
  },
  {
   "cell_type": "markdown",
   "id": "70d1c22d-399a-44f0-9ce6-da8cf454a35d",
   "metadata": {},
   "source": [
    "<font size = '3'> <b> 2. TPM tools </b> <br>\n",
    "To interact  with a TPM chip in debia-based systems we can use TPM2 tools package. Remenber that as we are directly interacting with hardware, root privileges may be necessary.</font>"
   ]
  },
  {
   "cell_type": "code",
   "execution_count": 11,
   "id": "80e8f480-f298-4fe8-b3fa-5b4775f71127",
   "metadata": {},
   "outputs": [],
   "source": [
    "# sudo apt-get update\n",
    "# sudo apt-get install tpm2-tools"
   ]
  },
  {
   "cell_type": "markdown",
   "id": "0403a178-6871-49be-bf5e-24ed63813991",
   "metadata": {},
   "source": [
    "<font size='3'> \n",
    "<b>3. TPM Kernel Module </b>\n",
    "    It is important to ensure TPM kernel is loaded, adn that our system is configured to use it. We can load it like this:\n",
    "</font>"
   ]
  },
  {
   "cell_type": "code",
   "execution_count": 12,
   "id": "b89b5ef4-13d1-41f8-8310-7901276cb98e",
   "metadata": {},
   "outputs": [],
   "source": [
    "# sudo modprobe \n",
    "# sudo modprobe tpm_tis"
   ]
  },
  {
   "cell_type": "markdown",
   "id": "afc709fd-9977-49a8-9df2-b6ab58881208",
   "metadata": {},
   "source": [
    "<font size='3'> \n",
    "<b>4. Checking TPM status </b>\n",
    "</font>"
   ]
  },
  {
   "cell_type": "code",
   "execution_count": 13,
   "id": "45c6a1e4-985a-41e6-b14c-674c2f14fad6",
   "metadata": {},
   "outputs": [],
   "source": [
    "# tpm2_getcap -c properties-fixed # Checks TPM status and attributes"
   ]
  },
  {
   "cell_type": "code",
   "execution_count": null,
   "id": "d8380e1d-09e8-4118-9d7c-596dbc09e628",
   "metadata": {},
   "outputs": [],
   "source": [
    "# tpm2_getcap -c properties-variable # Checks TPM version to ensure it is compatible with TPM 2.0"
   ]
  }
 ],
 "metadata": {
  "kernelspec": {
   "display_name": "Python 3 (ipykernel)",
   "language": "python",
   "name": "python3"
  },
  "language_info": {
   "codemirror_mode": {
    "name": "ipython",
    "version": 3
   },
   "file_extension": ".py",
   "mimetype": "text/x-python",
   "name": "python",
   "nbconvert_exporter": "python",
   "pygments_lexer": "ipython3",
   "version": "3.12.6"
  }
 },
 "nbformat": 4,
 "nbformat_minor": 5
}
